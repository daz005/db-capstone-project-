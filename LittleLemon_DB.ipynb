{
 "cells": [
  {
   "cell_type": "code",
   "execution_count": 10,
   "id": "8c0ac72b",
   "metadata": {},
   "outputs": [
    {
     "name": "stdout",
     "output_type": "stream",
     "text": [
      "Requirement already satisfied: mysql-connector-python in c:\\users\\thekku\\anaconda3\\lib\\site-packages (8.0.33)\n",
      "Requirement already satisfied: protobuf<=3.20.3,>=3.11.0 in c:\\users\\thekku\\anaconda3\\lib\\site-packages (from mysql-connector-python) (3.20.3)\n"
     ]
    }
   ],
   "source": [
    "!pip install mysql-connector-python\n"
   ]
  },
  {
   "cell_type": "code",
   "execution_count": 11,
   "id": "eee4572b",
   "metadata": {},
   "outputs": [],
   "source": [
    "import mysql.connector as connector"
   ]
  },
  {
   "cell_type": "code",
   "execution_count": 17,
   "id": "5159e145",
   "metadata": {},
   "outputs": [],
   "source": [
    "connection = connector.connect(user = \"Aditi\", password = \"Nimal#1970\", db=\"littlelemon_db\")\n",
    "cursor = connection.cursor()"
   ]
  },
  {
   "cell_type": "code",
   "execution_count": 25,
   "id": "5bec0db3",
   "metadata": {},
   "outputs": [
    {
     "name": "stdout",
     "output_type": "stream",
     "text": [
      "('bookings',)\n",
      "('customer',)\n",
      "('menu',)\n",
      "('menuitems',)\n",
      "('order delivery status',)\n",
      "('orders',)\n",
      "('ordersview',)\n",
      "('staff',)\n"
     ]
    }
   ],
   "source": [
    "show_tables_query = \"SHOW tables\" \n",
    "cursor.execute(show_tables_query)\n",
    "\n",
    "for table in cursor:\n",
    "    print(table)"
   ]
  },
  {
   "cell_type": "code",
   "execution_count": 47,
   "id": "e4a30dfa",
   "metadata": {},
   "outputs": [
    {
     "name": "stdout",
     "output_type": "stream",
     "text": [
      "('First Name', 'Last Name', 'ContactNumber', 'Address', 'Email', 'floor(o.TotalCost )')\n",
      "('Olivia', 'Smith', 2344321234, '12 Dundas St', 'oliviasmith@gmail.com', 301)\n",
      "('Emma', 'Johnson', 4566543456, '56 Lee Centre Dr', 'emmajohnson@gmail.com', 141)\n",
      "('Charlotte', 'Williams', 7899876789, '57 Bay St', 'charlottewilliams@gmail.com', 201)\n",
      "('Amelia', 'Brown', 4322341243, '67 Adelaide Dr', 'ameliabrown@gmail.com', 170)\n"
     ]
    }
   ],
   "source": [
    "Customer_deets='SELECT c.`First Name` ,c.`Last Name`,c.ContactNumber,c.Address,c.Email, floor(o.TotalCost ) FROM customer c inner join orders o on c.CustomerID = o.CustomerID where TotalCost>60'\n",
    "cursor.execute(Customer_deets)\n",
    "cols = cursor.column_names\n",
    "print(cols)\n",
    "for table in cursor:\n",
    "    print(table)\n"
   ]
  },
  {
   "cell_type": "code",
   "execution_count": null,
   "id": "0d4489a3",
   "metadata": {
    "collapsed": true
   },
   "outputs": [],
   "source": []
  }
 ],
 "metadata": {
  "kernelspec": {
   "display_name": "Python 3 (ipykernel)",
   "language": "python",
   "name": "python3"
  },
  "language_info": {
   "codemirror_mode": {
    "name": "ipython",
    "version": 3
   },
   "file_extension": ".py",
   "mimetype": "text/x-python",
   "name": "python",
   "nbconvert_exporter": "python",
   "pygments_lexer": "ipython3",
   "version": "3.10.9"
  }
 },
 "nbformat": 4,
 "nbformat_minor": 5
}
